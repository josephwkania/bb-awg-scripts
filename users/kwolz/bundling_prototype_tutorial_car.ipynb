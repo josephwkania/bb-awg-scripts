{
 "cells": [
  {
   "cell_type": "markdown",
   "metadata": {},
   "source": [
    "## Prototype of the bundling interface"
   ]
  },
  {
   "cell_type": "markdown",
   "metadata": {},
   "source": [
    "We start by importing the `BundleCoordinator` class, which will allow to assign the atomic maps to different bundles."
   ]
  },
  {
   "cell_type": "code",
   "execution_count": 1,
   "metadata": {},
   "outputs": [],
   "source": [
    "import sys\n",
    "sys.path.insert(1, \"../../pipeline/bundling\")\n",
    "from coordinator import BundleCoordinator"
   ]
  },
  {
   "cell_type": "markdown",
   "metadata": {},
   "source": [
    "We then specify the path to the atomic maps database, input for the bundling."
   ]
  },
  {
   "cell_type": "code",
   "execution_count": 2,
   "metadata": {},
   "outputs": [],
   "source": [
    "atomic_db = \"/pscratch/sd/s/susannaz/shared/SO_ISO/satp3_maps/cmb_map_satp3_8May2024/atomic_maps.db\""
   ]
  },
  {
   "cell_type": "markdown",
   "metadata": {},
   "source": [
    "Time to create bundles ! We will do it for `n_bundles = 2`, a fixed seed and tell the `BundleCoordinator` to also assign maps to `high` and `low` splits for the properties listed in `null_props`."
   ]
  },
  {
   "cell_type": "code",
   "execution_count": 3,
   "metadata": {},
   "outputs": [],
   "source": [
    "bundles = BundleCoordinator(atomic_db, n_bundles=2, seed=1234, null_props=[\"pwv\", \"elevation\"])"
   ]
  },
  {
   "cell_type": "markdown",
   "metadata": {},
   "source": [
    "Once done, we can access to the median that was computed for the property `pwv`"
   ]
  },
  {
   "cell_type": "code",
   "execution_count": 4,
   "metadata": {},
   "outputs": [
    {
     "data": {
      "text/plain": [
       "0.0"
      ]
     },
     "execution_count": 4,
     "metadata": {},
     "output_type": "execute_result"
    }
   ],
   "source": [
    "bundles.null_props_stats[\"pwv\"]"
   ]
  },
  {
   "cell_type": "markdown",
   "metadata": {},
   "source": [
    "We then save the database to disk, so that we can release it with the bundled maps."
   ]
  },
  {
   "cell_type": "code",
   "execution_count": 5,
   "metadata": {},
   "outputs": [],
   "source": [
    "bundles.save_db(\"bundles_car.db\")"
   ]
  },
  {
   "cell_type": "markdown",
   "metadata": {},
   "source": [
    "Now, if we need to get info about bundles in a separate script, we can load it from file by calling the following method. Note that you can only load part of the database by specifying the variables `bundle_id` and `null_prop_val` (which could be `high_pwv` for example)"
   ]
  },
  {
   "cell_type": "code",
   "execution_count": 6,
   "metadata": {},
   "outputs": [],
   "source": [
    "bundle_load = BundleCoordinator.from_dbfile(\n",
    "    \"bundles_car.db\",\n",
    "    bundle_id=0,\n",
    "    null_prop_val=None\n",
    ")"
   ]
  },
  {
   "cell_type": "markdown",
   "metadata": {},
   "source": [
    "We now have all the ingredients to actually coadd the atomic maps. Before this, we never had to open any atomic map file to generate the database. For this, we import a new class : `Bundler`."
   ]
  },
  {
   "cell_type": "code",
   "execution_count": 7,
   "metadata": {},
   "outputs": [],
   "source": [
    "from coadder import Bundler"
   ]
  },
  {
   "cell_type": "markdown",
   "metadata": {},
   "source": [
    "This class needs the paths to the atomic database and bundling database. There, `obs_id` is not enough to load map files, we will add further informations about the frequency and the wafer to use. Note that setting the `wafer` argument to `None` will just load and coadd all of them.\n",
    "Once the bundler object instantiated, one can run the `bundle` method to coadd maps. For this you will have to specify which bundle you want to output, as well as which null property (if `None` it will just produce the science bundle)"
   ]
  },
  {
   "cell_type": "code",
   "execution_count": 8,
   "metadata": {},
   "outputs": [
    {
     "name": "stdout",
     "output_type": "stream",
     "text": [
      "dec_cut (-75, 25)\n"
     ]
    }
   ],
   "source": [
    "bundler = Bundler(atomic_db, \"bundles_car.db\", freq_channel=\"f150\", wafer=\"ws0\",\n",
    "                  pix_type=\"car\")\n",
    "map, hits = bundler.bundle(bundle_id=0, null_prop_val=\"low_pwv\")"
   ]
  },
  {
   "cell_type": "markdown",
   "metadata": {},
   "source": [
    "Now we can visualize the map with `pixell.enplot`."
   ]
  },
  {
   "cell_type": "code",
   "execution_count": 9,
   "metadata": {},
   "outputs": [
    {
     "data": {
      "text/plain": [
       "[Bunch(base='', ci=0, cn=1, comp='', dir='', ext='png', fcomp='', fi=0, fn=1, iext='', img=<PIL.Image.Image image mode=RGBA size=2218x657 at 0x7FC9A46D64D0>, info=Bunch(bounds=array([[ -29,  -19],\n",
       "        [2189,  638]]), names=['img', 'grid', 'tics', 'colorbar']), layer='', name='.png', pi=0, pn=1, pre='', printer=<pixell.enplot.Printer object at 0x7fc9a6d1b010>, suf='', type='pil')]"
      ]
     },
     "execution_count": 9,
     "metadata": {},
     "output_type": "execute_result"
    }
   ],
   "source": [
    "from pixell import enplot\n",
    "enplot.plot(map[1]*1e6, colorbar=True, ticks=10, min=-100, max=100)"
   ]
  },
  {
   "cell_type": "markdown",
   "metadata": {},
   "source": [
    "To generate noise simulation, one can import and instantiate an object of the `SignFlip` class. Since we might want to generate multiple sign-flip noise realizations, we instantiate the object specifying also `bundle_id` and the null property value `null_prop_val`."
   ]
  },
  {
   "cell_type": "code",
   "execution_count": null,
   "metadata": {},
   "outputs": [
    {
     "ename": "OperationalError",
     "evalue": "no such column: median_weight_qu",
     "output_type": "error",
     "traceback": [
      "\u001b[0;31m---------------------------------------------------------------------------\u001b[0m",
      "\u001b[0;31mOperationalError\u001b[0m                          Traceback (most recent call last)",
      "Cell \u001b[0;32mIn[10], line 2\u001b[0m\n\u001b[1;32m      1\u001b[0m \u001b[38;5;28;01mfrom\u001b[39;00m \u001b[38;5;21;01mcoadder\u001b[39;00m \u001b[38;5;28;01mimport\u001b[39;00m SignFlip\n\u001b[0;32m----> 2\u001b[0m signflip \u001b[38;5;241m=\u001b[39m \u001b[43mSignFlip\u001b[49m\u001b[43m(\u001b[49m\u001b[43matomic_db\u001b[49m\u001b[43m,\u001b[49m\u001b[43m \u001b[49m\u001b[38;5;124;43m\"\u001b[39;49m\u001b[38;5;124;43mbundles_car.db\u001b[39;49m\u001b[38;5;124;43m\"\u001b[39;49m\u001b[43m,\u001b[49m\u001b[43m \u001b[49m\u001b[43mfreq_channel\u001b[49m\u001b[38;5;241;43m=\u001b[39;49m\u001b[38;5;124;43m\"\u001b[39;49m\u001b[38;5;124;43mf150\u001b[39;49m\u001b[38;5;124;43m\"\u001b[39;49m\u001b[43m,\u001b[49m\u001b[43m \u001b[49m\u001b[43mwafer\u001b[49m\u001b[38;5;241;43m=\u001b[39;49m\u001b[38;5;28;43;01mNone\u001b[39;49;00m\u001b[43m,\u001b[49m\u001b[43m \u001b[49m\u001b[43mbundle_id\u001b[49m\u001b[38;5;241;43m=\u001b[39;49m\u001b[38;5;241;43m0\u001b[39;49m\u001b[43m,\u001b[49m\u001b[43m \u001b[49m\u001b[43mnull_prop_val\u001b[49m\u001b[38;5;241;43m=\u001b[39;49m\u001b[38;5;28;43;01mNone\u001b[39;49;00m\u001b[43m)\u001b[49m\n",
      "File \u001b[0;32m/global/u2/k/kwolz/bbdev/bb-awg-scripts/users/kwolz/../../pipeline/bundling/coadder.py:156\u001b[0m, in \u001b[0;36mSignFlip.__init__\u001b[0;34m(self, atomic_db, bundle_db, freq_channel, wafer, bundle_id, null_prop_val, pix_type)\u001b[0m\n\u001b[1;32m    151\u001b[0m \u001b[38;5;28msuper\u001b[39m()\u001b[38;5;241m.\u001b[39m\u001b[38;5;21m__init__\u001b[39m(atomic_db, bundle_db, freq_channel, wafer,\n\u001b[1;32m    152\u001b[0m                  pix_type\u001b[38;5;241m=\u001b[39mpix_type)\n\u001b[1;32m    154\u001b[0m \u001b[38;5;28;01mif\u001b[39;00m \u001b[38;5;28mself\u001b[39m\u001b[38;5;241m.\u001b[39mpix_type \u001b[38;5;241m==\u001b[39m \u001b[38;5;124m\"\u001b[39m\u001b[38;5;124mhp\u001b[39m\u001b[38;5;124m\"\u001b[39m:\n\u001b[1;32m    155\u001b[0m     \u001b[38;5;66;03m# Erik's atomic.db contains mean QU weights, so we'll use them here\u001b[39;00m\n\u001b[0;32m--> 156\u001b[0m     \u001b[38;5;28mself\u001b[39m\u001b[38;5;241m.\u001b[39mfnames, \u001b[38;5;28mself\u001b[39m\u001b[38;5;241m.\u001b[39mws \u001b[38;5;241m=\u001b[39m \u001b[38;5;28;43mself\u001b[39;49m\u001b[38;5;241;43m.\u001b[39;49m\u001b[43m_get_fnames\u001b[49m\u001b[43m(\u001b[49m\n\u001b[1;32m    157\u001b[0m \u001b[43m        \u001b[49m\u001b[43mbundle_id\u001b[49m\u001b[43m,\u001b[49m\u001b[43m \u001b[49m\u001b[43mnull_prop_val\u001b[49m\u001b[43m,\u001b[49m\u001b[43m \u001b[49m\u001b[43mreturn_weights\u001b[49m\u001b[38;5;241;43m=\u001b[39;49m\u001b[38;5;28;43;01mTrue\u001b[39;49;00m\n\u001b[1;32m    158\u001b[0m \u001b[43m    \u001b[49m\u001b[43m)\u001b[49m\n\u001b[1;32m    159\u001b[0m \u001b[38;5;28;01melse\u001b[39;00m:\n\u001b[1;32m    160\u001b[0m     \u001b[38;5;28mself\u001b[39m\u001b[38;5;241m.\u001b[39mfnames \u001b[38;5;241m=\u001b[39m \u001b[38;5;28mself\u001b[39m\u001b[38;5;241m.\u001b[39m_get_fnames(\n\u001b[1;32m    161\u001b[0m         bundle_id, null_prop_val, return_weights\u001b[38;5;241m=\u001b[39m\u001b[38;5;28;01mFalse\u001b[39;00m\n\u001b[1;32m    162\u001b[0m     )\n",
      "File \u001b[0;32m/global/u2/k/kwolz/bbdev/bb-awg-scripts/users/kwolz/../../pipeline/bundling/coadder.py:100\u001b[0m, in \u001b[0;36m_Coadder._get_fnames\u001b[0;34m(self, bundle_id, null_prop_val, return_weights)\u001b[0m\n\u001b[1;32m     98\u001b[0m \u001b[38;5;28;01mfor\u001b[39;00m obs_id \u001b[38;5;129;01min\u001b[39;00m obs_ids:\n\u001b[1;32m     99\u001b[0m     \u001b[38;5;28;01mif\u001b[39;00m return_weights:\n\u001b[0;32m--> 100\u001b[0m         fname_list, weight_list \u001b[38;5;241m=\u001b[39m \u001b[38;5;28;43mself\u001b[39;49m\u001b[38;5;241;43m.\u001b[39;49m\u001b[43m_obsid2fnames\u001b[49m\u001b[43m(\u001b[49m\n\u001b[1;32m    101\u001b[0m \u001b[43m            \u001b[49m\u001b[43mobs_id\u001b[49m\u001b[43m,\u001b[49m\u001b[43m \u001b[49m\u001b[43mreturn_weights\u001b[49m\u001b[38;5;241;43m=\u001b[39;49m\u001b[43mreturn_weights\u001b[49m\n\u001b[1;32m    102\u001b[0m \u001b[43m        \u001b[49m\u001b[43m)\u001b[49m\n\u001b[1;32m    103\u001b[0m         \u001b[38;5;28;01mfor\u001b[39;00m fname, weight \u001b[38;5;129;01min\u001b[39;00m \u001b[38;5;28mzip\u001b[39m(fname_list, weight_list):\n\u001b[1;32m    104\u001b[0m             \u001b[38;5;28;01mif\u001b[39;00m \u001b[38;5;28mself\u001b[39m\u001b[38;5;241m.\u001b[39m_check_maps_exist(fname):\n",
      "File \u001b[0;32m/global/u2/k/kwolz/bbdev/bb-awg-scripts/users/kwolz/../../pipeline/bundling/coadder.py:58\u001b[0m, in \u001b[0;36m_Coadder._obsid2fnames\u001b[0;34m(self, obs_id, return_weights)\u001b[0m\n\u001b[1;32m     56\u001b[0m \u001b[38;5;28;01mif\u001b[39;00m \u001b[38;5;28mself\u001b[39m\u001b[38;5;241m.\u001b[39mwafer \u001b[38;5;129;01mis\u001b[39;00m \u001b[38;5;129;01mnot\u001b[39;00m \u001b[38;5;28;01mNone\u001b[39;00m:\n\u001b[1;32m     57\u001b[0m     query \u001b[38;5;241m+\u001b[39m\u001b[38;5;241m=\u001b[39m \u001b[38;5;124mf\u001b[39m\u001b[38;5;124m\"\u001b[39m\u001b[38;5;124m AND wafer = \u001b[39m\u001b[38;5;124m'\u001b[39m\u001b[38;5;132;01m{\u001b[39;00m\u001b[38;5;28mself\u001b[39m\u001b[38;5;241m.\u001b[39mwafer\u001b[38;5;132;01m}\u001b[39;00m\u001b[38;5;124m'\u001b[39m\u001b[38;5;124m\"\u001b[39m\n\u001b[0;32m---> 58\u001b[0m result \u001b[38;5;241m=\u001b[39m cursor\u001b[38;5;241m.\u001b[39mexecute(query)\u001b[38;5;241m.\u001b[39mfetchall()\n\u001b[1;32m     59\u001b[0m con\u001b[38;5;241m.\u001b[39mclose()\n\u001b[1;32m     60\u001b[0m \u001b[38;5;28;01mif\u001b[39;00m return_weights:\n",
      "\u001b[0;31mOperationalError\u001b[0m: no such column: median_weight_qu"
     ]
    }
   ],
   "source": [
    "from coadder import SignFlip\n",
    "signflip = SignFlip(\n",
    "    atomic_db, \"bundles_car.db\", freq_channel=\"f150\", wafer=None, bundle_id=0,\n",
    "    null_prop_val=None, pix_type=\"car\"\n",
    ")"
   ]
  },
  {
   "cell_type": "code",
   "execution_count": null,
   "metadata": {},
   "outputs": [],
   "source": [
    "noise = signflip.signflip(seed=1234)\n",
    "noise2 = signflip.signflip(seed=1235)\n",
    "noise3 = signflip.signflip(seed=1236)"
   ]
  },
  {
   "cell_type": "code",
   "execution_count": null,
   "metadata": {},
   "outputs": [],
   "source": [
    "enplot.plot(noise[1]*1e6, colorbar=True, ticks=10, min=-100, max=100)\n",
    "enplot.plot(noise2[1]*1e6, colorbar=True, ticks=10, min=-100, max=100)\n",
    "enplot.plot(noise3[1]*1e6, colorbar=True, ticks=10, min=-100, max=100)"
   ]
  }
 ],
 "metadata": {
  "kernelspec": {
   "display_name": "Python 3",
   "language": "python",
   "name": "python3"
  },
  "language_info": {
   "codemirror_mode": {
    "name": "ipython",
    "version": 3
   },
   "file_extension": ".py",
   "mimetype": "text/x-python",
   "name": "python",
   "nbconvert_exporter": "python",
   "pygments_lexer": "ipython3",
   "version": "3.11.9"
  }
 },
 "nbformat": 4,
 "nbformat_minor": 2
}
